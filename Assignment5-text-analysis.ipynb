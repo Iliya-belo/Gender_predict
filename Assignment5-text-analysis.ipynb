{
 "cells": [
  {
   "cell_type": "markdown",
   "metadata": {},
   "source": [
    "# Assignment 5 - Text Analysis\n",
    "An explanation this assignment could be found in the .pdf explanation document"
   ]
  },
  {
   "cell_type": "markdown",
   "metadata": {},
   "source": [
    "\n",
    "## Materials to review for this assignment\n",
    "<h4>From Moodle:</h4> \n",
    "<h5><u>Review the notebooks regarding the following python topics</u>:</h5>\n",
    "<div class=\"alert alert-info\">\n",
    "&#x2714; <b>Working with strings</b> (tutorial notebook)<br/>\n",
    "&#x2714; <b>Text Analysis</b> (tutorial notebook)<br/>\n",
    "&#x2714; <b>Hebrew text analysis tools (tokenizer, wordnet)</b> (moodle example)<br/>\n",
    "&#x2714; <b>(brief review) All previous notebooks</b><br/>\n",
    "</div> \n",
    "<h5><u>Review the presentations regarding the following topics</u>:</h5>\n",
    "<div class=\"alert alert-info\">\n",
    "&#x2714; <b>Text Analysis</b> (lecture presentation)<br/>\n",
    "&#x2714; <b>(brief review) All other presentations</b><br/>\n",
    "</div>"
   ]
  },
  {
   "cell_type": "markdown",
   "metadata": {},
   "source": [
    "## Preceding Step - import modules (packages)\n",
    "This step is necessary in order to use external modules (packages). <br/>"
   ]
  },
  {
   "cell_type": "code",
   "execution_count": 1,
   "metadata": {},
   "outputs": [],
   "source": [
    "# --------------------------------------\n",
    "import pandas as pd\n",
    "import numpy as np\n",
    "# --------------------------------------\n",
    "\n",
    "\n",
    "# --------------------------------------\n",
    "# ------------- visualizations:\n",
    "import seaborn as sns\n",
    "import matplotlib.pyplot as plt\n",
    "from matplotlib.colors import ListedColormap\n",
    "# --------------------------------------\n",
    "\n",
    "\n",
    "# ---------------------------------------\n",
    "import sklearn\n",
    "from sklearn import preprocessing, metrics, pipeline, model_selection, feature_extraction \n",
    "from sklearn import naive_bayes, linear_model, svm, neural_network, neighbors, tree\n",
    "from sklearn import decomposition, cluster\n",
    "\n",
    "from sklearn.model_selection import train_test_split, cross_val_score, GridSearchCV \n",
    "from sklearn.pipeline import Pipeline\n",
    "from sklearn.metrics import accuracy_score, confusion_matrix\n",
    "from sklearn.metrics import precision_score, recall_score, f1_score\n",
    "from sklearn.metrics import mean_squared_error, r2_score, silhouette_score\n",
    "from sklearn.preprocessing import MinMaxScaler, StandardScaler, LabelEncoder\n",
    "\n",
    "from sklearn.svm import LinearSVC\n",
    "from sklearn.neural_network import MLPClassifier\n",
    "from sklearn.linear_model import Perceptron, SGDClassifier\n",
    "from sklearn.decomposition import PCA\n",
    "from sklearn.cluster import KMeans\n",
    "from sklearn.naive_bayes import MultinomialNB, GaussianNB\n",
    "from sklearn.neighbors import KNeighborsClassifier\n",
    "from sklearn.tree import DecisionTreeClassifier\n",
    "# ---------------------------------------\n",
    "\n",
    "\n",
    "# ----------------- output and visualizations: \n",
    "import warnings\n",
    "from sklearn.exceptions import ConvergenceWarning\n",
    "warnings.simplefilter(\"ignore\")\n",
    "warnings.simplefilter(action='ignore', category=FutureWarning)\n",
    "warnings.simplefilter(\"ignore\", category=ConvergenceWarning)\n",
    "# show several prints in one cell. This will allow us to condence every trick in one cell.\n",
    "from IPython.core.interactiveshell import InteractiveShell\n",
    "InteractiveShell.ast_node_interactivity = \"all\"\n",
    "%matplotlib inline\n",
    "pd.pandas.set_option('display.max_columns', None)\n",
    "pd.set_option('display.float_format', lambda x: '%.3f' % x)\n",
    "# ---------------------------------------"
   ]
  },
  {
   "cell_type": "markdown",
   "metadata": {},
   "source": [
    "### Text analysis and String manipulation imports:"
   ]
  },
  {
   "cell_type": "code",
   "execution_count": 2,
   "metadata": {},
   "outputs": [],
   "source": [
    "# --------------------------------------\n",
    "# --------- Text analysis and Hebrew text analysis imports:\n",
    "# vectorizers:\n",
    "from sklearn.feature_extraction import text\n",
    "from sklearn.feature_extraction.text import CountVectorizer, TfidfVectorizer\n",
    "\n",
    "# regular expressions:\n",
    "import re\n",
    "# --------------------------------------"
   ]
  },
  {
   "cell_type": "markdown",
   "metadata": {},
   "source": [
    "### (optional) Hebrew text analysis - WordNet (for Hebrew)\n",
    "Note: the WordNet is not a must"
   ]
  },
  {
   "cell_type": "markdown",
   "metadata": {},
   "source": [
    "#### (optional) Only if you didn't install Wordnet (for Hebrew) use:"
   ]
  },
  {
   "cell_type": "code",
   "execution_count": 3,
   "metadata": {},
   "outputs": [
    {
     "name": "stdout",
     "output_type": "stream",
     "text": [
      "Collecting wn\n",
      "  Downloading wn-0.9.4-py3-none-any.whl (75 kB)\n",
      "Collecting tomli\n",
      "  Downloading tomli-2.0.1-py3-none-any.whl (12 kB)\n",
      "Requirement already satisfied: requests in c:\\anaconda3\\lib\\site-packages (from wn) (2.25.1)\n",
      "Requirement already satisfied: certifi>=2017.4.17 in c:\\anaconda3\\lib\\site-packages (from requests->wn) (2020.12.5)\n",
      "Requirement already satisfied: chardet<5,>=3.0.2 in c:\\anaconda3\\lib\\site-packages (from requests->wn) (4.0.0)\n",
      "Requirement already satisfied: urllib3<1.27,>=1.21.1 in c:\\anaconda3\\lib\\site-packages (from requests->wn) (1.26.4)\n",
      "Requirement already satisfied: idna<3,>=2.5 in c:\\anaconda3\\lib\\site-packages (from requests->wn) (2.10)\n",
      "Installing collected packages: tomli, wn\n",
      "Successfully installed tomli-2.0.1 wn-0.9.4\n"
     ]
    },
    {
     "name": "stderr",
     "output_type": "stream",
     "text": [
      "\n",
      "\u001b[K\n",
      "Download (0 bytes) Requesting\n",
      "\u001b[K\n",
      "Download [                              ] (0/315276 bytes) Receiving\n",
      "\u001b[K\n",
      "Download [=                             ] (8192/315276 bytes) Receiving\n",
      "\u001b[K\n",
      "Download [#-                            ] (16384/315276 bytes) Receiving\n",
      "\u001b[K\n",
      "Download [##-                           ] (24576/315276 bytes) Receiving\n",
      "\u001b[K\n",
      "Download [###                           ] (32768/315276 bytes) Receiving\n",
      "\u001b[K\n",
      "Download [###=                          ] (40960/315276 bytes) Receiving\n",
      "\u001b[K\n",
      "Download [####=                         ] (49152/315276 bytes) Receiving\n",
      "\u001b[K\n",
      "Download [#####-                        ] (57344/315276 bytes) Receiving\n",
      "\u001b[K\n",
      "Download [######                        ] (65536/315276 bytes) Receiving\n",
      "\u001b[K\n",
      "Download [#######                       ] (73728/315276 bytes) Receiving\n",
      "\u001b[K\n",
      "Download [#######=                      ] (81920/315276 bytes) Receiving\n",
      "\u001b[K\n",
      "Download [########-                     ] (90112/315276 bytes) Receiving\n",
      "\u001b[K\n",
      "Download [#########-                    ] (98304/315276 bytes) Receiving\n",
      "\u001b[K\n",
      "Download [##########                    ] (106496/315276 bytes) Receiving\n",
      "\u001b[K\n",
      "Download [##########=                   ] (114688/315276 bytes) Receiving\n",
      "\u001b[K\n",
      "Download [###########=                  ] (122880/315276 bytes) Receiving\n",
      "\u001b[K\n",
      "Download [############-                 ] (131072/315276 bytes) Receiving\n",
      "\u001b[K\n",
      "Download [#############                 ] (139264/315276 bytes) Receiving\n",
      "\u001b[K\n",
      "Download [##############                ] (147456/315276 bytes) Receiving\n",
      "\u001b[K\n",
      "Download [##############=               ] (155648/315276 bytes) Receiving\n",
      "\u001b[K\n",
      "Download [###############-              ] (163840/315276 bytes) Receiving\n",
      "\u001b[K\n",
      "Download [################-             ] (172032/315276 bytes) Receiving\n",
      "\u001b[K\n",
      "Download [#################             ] (180224/315276 bytes) Receiving\n",
      "\u001b[K\n",
      "Download [#################=            ] (188416/315276 bytes) Receiving\n",
      "\u001b[K\n",
      "Download [##################=           ] (196608/315276 bytes) Receiving\n",
      "\u001b[K\n",
      "Download [###################-          ] (204800/315276 bytes) Receiving\n",
      "\u001b[K\n",
      "Download [####################          ] (212992/315276 bytes) Receiving\n",
      "\u001b[K\n",
      "Download [#####################         ] (221184/315276 bytes) Receiving\n",
      "\u001b[K\n",
      "Download [#####################=        ] (229376/315276 bytes) Receiving\n",
      "\u001b[K\n",
      "Download [######################-       ] (237568/315276 bytes) Receiving\n",
      "\u001b[K\n",
      "Download [#######################-      ] (245760/315276 bytes) Receiving\n",
      "\u001b[K\n",
      "Download [########################      ] (253952/315276 bytes) Receiving\n",
      "\u001b[K\n",
      "Download [########################=     ] (262144/315276 bytes) Receiving\n",
      "\u001b[K\n",
      "Download [#########################=    ] (270336/315276 bytes) Receiving\n",
      "\u001b[K\n",
      "Download [##########################-   ] (278528/315276 bytes) Receiving\n",
      "\u001b[K\n",
      "Download [###########################   ] (286720/315276 bytes) Receiving\n",
      "\u001b[K\n",
      "Download [############################  ] (294912/315276 bytes) Receiving\n",
      "\u001b[K\n",
      "Download [############################= ] (303104/315276 bytes) Receiving\n",
      "\u001b[K\n",
      "Download [#############################-] (311296/315276 bytes) Receiving\n",
      "\u001b[K\n",
      "Download [##############################] (315276/315276 bytes) Receiving\n",
      "\u001b[K\n",
      "Download [##############################] (315276/315276 bytes) Complete\n",
      "\n",
      "\u001b[KChecking C:\\Users\\lab102\\AppData\\Local\\Temp\\tmpb7qr3ob5\\omw-he\\omw-he.xml\n",
      "\u001b[KReading C:\\Users\\lab102\\AppData\\Local\\Temp\\tmpb7qr3ob5\\omw-he\\omw-he.xml\n",
      "\u001b[K\n",
      "Read [##########                    ] (10000/29690) \n",
      "\u001b[K\n",
      "Read [####################          ] (20000/29690) \n",
      "\u001b[K\n",
      "Read [##############################] (29690/29690) \n",
      "\n",
      "\u001b[KUpdating lookup tables\n",
      "\u001b[K\n",
      "Database [                              ] (0/29687) \n",
      "\u001b[K\n",
      "Database [                              ] (0/29687) Lexicon Info\n",
      "\u001b[K\n",
      "Database [                              ] (0/29687) Synsets\n",
      "\u001b[K\n",
      "Database [#                             ] (1000/29687) Synsets\n",
      "\u001b[K\n",
      "Database [##                            ] (2000/29687) Synsets\n",
      "\u001b[K\n",
      "Database [###                           ] (3000/29687) Synsets\n",
      "\u001b[K\n",
      "Database [####                          ] (4000/29687) Synsets\n",
      "\u001b[K\n",
      "Database [#####                         ] (5000/29687) Synsets\n",
      "\u001b[K\n",
      "Database [#####-                        ] (5448/29687) Synsets\n",
      "\u001b[K\n",
      "Database [#####-                        ] (5448/29687) Words\n",
      "\u001b[K\n",
      "Database [######-                       ] (6448/29687) Words\n",
      "\u001b[K\n",
      "Database [#######-                      ] (7448/29687) Words\n",
      "\u001b[K\n",
      "Database [########-                     ] (8448/29687) Words\n",
      "\u001b[K\n",
      "Database [#########-                    ] (9448/29687) Words\n",
      "\u001b[K\n",
      "Database [##########-                   ] (10448/29687) Words\n",
      "\u001b[K\n",
      "Database [##########=                   ] (10827/29687) Words\n",
      "\u001b[K\n",
      "Database [##########=                   ] (10827/29687) Word Forms\n",
      "\u001b[K\n",
      "Database [###########=                  ] (11827/29687) Word Forms\n",
      "\u001b[K\n",
      "Database [############=                 ] (12827/29687) Word Forms\n",
      "\u001b[K\n",
      "Database [#############=                ] (13827/29687) Word Forms\n",
      "\u001b[K\n",
      "Database [##############=               ] (14827/29687) Word Forms\n",
      "\u001b[K\n",
      "Database [###############=              ] (15827/29687) Word Forms\n",
      "\u001b[K\n",
      "Database [################-             ] (16206/29687) Word Forms\n",
      "\u001b[K\n",
      "Database [################-             ] (16206/29687) Pronunciations\n",
      "\u001b[K\n",
      "Database [################-             ] (16206/29687) Pronunciations\n",
      "\u001b[K\n",
      "Database [################-             ] (16206/29687) Pronunciations\n",
      "\u001b[K\n",
      "Database [################-             ] (16206/29687) Pronunciations\n",
      "\u001b[K\n",
      "Database [################-             ] (16206/29687) Pronunciations\n",
      "\u001b[K\n",
      "Database [################-             ] (16206/29687) Pronunciations\n",
      "\u001b[K\n",
      "Database [################-             ] (16206/29687) Pronunciations\n",
      "\u001b[K\n",
      "Database [################-             ] (16206/29687) Word Form Tags\n",
      "\u001b[K\n",
      "Database [################-             ] (16206/29687) Word Form Tags\n",
      "\u001b[K\n",
      "Database [################-             ] (16206/29687) Word Form Tags\n",
      "\u001b[K\n",
      "Database [################-             ] (16206/29687) Word Form Tags\n",
      "\u001b[K\n",
      "Database [################-             ] (16206/29687) Word Form Tags\n",
      "\u001b[K\n",
      "Database [################-             ] (16206/29687) Word Form Tags\n",
      "\u001b[K\n",
      "Database [################-             ] (16206/29687) Word Form Tags\n",
      "\u001b[K\n",
      "Database [################-             ] (16206/29687) Senses\n",
      "\u001b[K\n",
      "Database [##################            ] (17901/29687) Senses\n",
      "\u001b[K\n",
      "Database [###################-          ] (19154/29687) Senses\n",
      "\u001b[K\n",
      "Database [####################-         ] (20319/29687) Senses\n",
      "\u001b[K\n",
      "Database [#####################=        ] (21531/29687) Senses\n",
      "\u001b[K\n",
      "Database [######################=       ] (22671/29687) Senses\n",
      "\u001b[K\n",
      "Database [#######################       ] (23078/29687) Senses\n",
      "\u001b[K\n",
      "Database [#######################       ] (23078/29687) Sense Adjpositions\n",
      "\u001b[K\n",
      "Database [#######################       ] (23078/29687) Counts\n",
      "\u001b[K\n",
      "Database [#######################       ] (23078/29687) Counts\n",
      "\u001b[K\n",
      "Database [#######################       ] (23078/29687) Syntactic Behaviours\n",
      "\u001b[K\n",
      "Database [#######################       ] (23078/29687) Syntactic Behaviours\n",
      "\u001b[K\n",
      "Database [#######################       ] (23078/29687) Synset Relations\n",
      "\u001b[K\n",
      "Database [#######################       ] (23078/29687) Synset Relations\n",
      "\u001b[K\n",
      "Database [#######################       ] (23078/29687) Synset Relations\n",
      "\u001b[K\n",
      "Database [#######################       ] (23078/29687) Synset Relations\n",
      "\u001b[K\n",
      "Database [#######################       ] (23078/29687) Synset Relations\n",
      "\u001b[K\n",
      "Database [#######################       ] (23078/29687) Synset Relations\n",
      "\u001b[K\n",
      "Database [#######################       ] (23078/29687) Synset Relations\n",
      "\u001b[K\n",
      "Database [#######################       ] (23078/29687) Sense Relations\n",
      "\u001b[K\n",
      "Database [#######################       ] (23078/29687) Definitions\n",
      "\u001b[K\n",
      "Database [########################=     ] (24503/29687) Definitions\n",
      "\u001b[K\n",
      "Database [##########################    ] (25778/29687) Definitions\n",
      "\u001b[K\n",
      "Database [###########################   ] (27015/29687) Definitions\n",
      "\u001b[K\n",
      "Database [############################- ] (28283/29687) Definitions\n",
      "\u001b[K\n",
      "Database [#############################-] (29140/29687) Definitions\n",
      "\u001b[K\n",
      "Database [##############################] (29687/29687) Definitions\n",
      "\u001b[K\n",
      "Database [##############################] (29687/29687) Examples\n",
      "\u001b[K\n",
      "Database [##############################] (29687/29687) Examples\n",
      "\u001b[K\n",
      "Database [##############################] (29687/29687) Examples\n",
      "\u001b[K\n",
      "Database [##############################] (29687/29687) Examples\n",
      "\u001b[K\n",
      "Database [##############################] (29687/29687) Examples\n",
      "\u001b[K\n",
      "Database [##############################] (29687/29687) Examples\n",
      "\u001b[K\n",
      "Database [##############################] (29687/29687) Examples\n",
      "\u001b[K\n",
      "Database [##############################] (29687/29687) Examples\n",
      "\u001b[K\n",
      "Database [##############################] (29687/29687) Examples\n",
      "\u001b[K\n",
      "Database [##############################] (29687/29687) Examples\n",
      "\u001b[K\n",
      "Database [##############################] (29687/29687) Examples\n",
      "\u001b[K\n",
      "Database [##############################] (29687/29687) Examples\n",
      "\u001b[K\n",
      "Database [##############################] (29687/29687) Examples\n",
      "\u001b[K\n",
      "Database [##############################] (29687/29687) Examples\n",
      "\u001b[K\n",
      "Database [##############################] (29687/29687) Examples\n",
      "\u001b[K\n",
      "Database [##############################] (29687/29687) \n",
      "\u001b[KAdded omw-he:1.4 (Hebrew Wordnet)\n",
      "\n"
     ]
    }
   ],
   "source": [
    "# word net installation:\n",
    "\n",
    "# unmark if you want to use and need to install\n",
    "!pip install wn\n",
    "!python -m wn download omw-he:1.4"
   ]
  },
  {
   "cell_type": "code",
   "execution_count": 4,
   "metadata": {},
   "outputs": [],
   "source": [
    "# word net import:\n",
    "\n",
    "# unmark if you want to use:\n",
    "import wn"
   ]
  },
  {
   "cell_type": "markdown",
   "metadata": {},
   "source": [
    "### (optional) Hebrew text analysis - hebrew_tokenizer (Tokenizer for Hebrew)\n",
    "Note: the hebrew_tokenizer is not a must"
   ]
  },
  {
   "cell_type": "markdown",
   "metadata": {},
   "source": [
    "#### (optional) Only if you didn't install hebrew_tokenizer use:"
   ]
  },
  {
   "cell_type": "code",
   "execution_count": 5,
   "metadata": {},
   "outputs": [
    {
     "name": "stdout",
     "output_type": "stream",
     "text": [
      "Collecting hebrew_tokenizer\n",
      "  Downloading hebrew_tokenizer-2.3.0.tar.gz (13 kB)\n",
      "Building wheels for collected packages: hebrew-tokenizer\n",
      "  Building wheel for hebrew-tokenizer (setup.py): started\n",
      "  Building wheel for hebrew-tokenizer (setup.py): finished with status 'done'\n",
      "  Created wheel for hebrew-tokenizer: filename=hebrew_tokenizer-2.3.0-py3-none-any.whl size=13416 sha256=605c4b222d10855903eec7aab886ca37ca7944c8e9d12a75b54ec29d866cf7d7\n",
      "  Stored in directory: c:\\users\\lab102\\appdata\\local\\pip\\cache\\wheels\\48\\4a\\84\\4c7085a074b805492d1c24c171cbc50667f8f61d15500bb260\n",
      "Successfully built hebrew-tokenizer\n",
      "Installing collected packages: hebrew-tokenizer\n",
      "Successfully installed hebrew-tokenizer-2.3.0\n"
     ]
    }
   ],
   "source": [
    "# Hebrew tokenizer installation:\n",
    "\n",
    "# unmark if you want to use and need to install:\n",
    "!pip install hebrew_tokenizer"
   ]
  },
  {
   "cell_type": "code",
   "execution_count": 6,
   "metadata": {},
   "outputs": [
    {
     "name": "stdout",
     "output_type": "stream",
     "text": [
      "C:\\Users\\lab102\n"
     ]
    }
   ],
   "source": [
    "# Hebrew tokenizer import:\n",
    "\n",
    "# unmark if you want to use:\n",
    "import hebrew_tokenizer as ht\n"
   ]
  },
  {
   "cell_type": "markdown",
   "metadata": {},
   "source": [
    "### Reading input files\n",
    "Reading input files for train annotated corpus (raw text data) corpus and for the test corpus"
   ]
  },
  {
   "cell_type": "code",
   "execution_count": 7,
   "metadata": {},
   "outputs": [],
   "source": [
    "train_filename = 'annotated_corpus_for_train.csv'\n",
    "test_filename  = 'corpus_for_test.csv'\n",
    "df_train = pd.read_csv(train_filename, index_col=None, encoding='utf-8')\n",
    "df_test  = pd.read_csv(test_filename, index_col=None, encoding='utf-8')"
   ]
  },
  {
   "cell_type": "code",
   "execution_count": 8,
   "metadata": {},
   "outputs": [
    {
     "data": {
      "text/html": [
       "<div>\n",
       "<style scoped>\n",
       "    .dataframe tbody tr th:only-of-type {\n",
       "        vertical-align: middle;\n",
       "    }\n",
       "\n",
       "    .dataframe tbody tr th {\n",
       "        vertical-align: top;\n",
       "    }\n",
       "\n",
       "    .dataframe thead th {\n",
       "        text-align: right;\n",
       "    }\n",
       "</style>\n",
       "<table border=\"1\" class=\"dataframe\">\n",
       "  <thead>\n",
       "    <tr style=\"text-align: right;\">\n",
       "      <th></th>\n",
       "      <th>story</th>\n",
       "      <th>gender</th>\n",
       "    </tr>\n",
       "  </thead>\n",
       "  <tbody>\n",
       "    <tr>\n",
       "      <th>0</th>\n",
       "      <td>כשחבר הזמין אותי לחול, לא באמת חשבתי שזה יקרה,...</td>\n",
       "      <td>m</td>\n",
       "    </tr>\n",
       "    <tr>\n",
       "      <th>1</th>\n",
       "      <td>לפני שהתגייסתי לצבא עשיתי כל מני מיונים ליחידו...</td>\n",
       "      <td>m</td>\n",
       "    </tr>\n",
       "    <tr>\n",
       "      <th>2</th>\n",
       "      <td>מאז שהתחילו הלימודים חלומו של כל סטודנט זה הפנ...</td>\n",
       "      <td>f</td>\n",
       "    </tr>\n",
       "    <tr>\n",
       "      <th>3</th>\n",
       "      <td>כשהייתי ילד, מטוסים היה הדבר שהכי ריתק אותי. ב...</td>\n",
       "      <td>m</td>\n",
       "    </tr>\n",
       "    <tr>\n",
       "      <th>4</th>\n",
       "      <td>‏הייתי מדריכה בכפר נוער ומתאם הכפר היינו צריכי...</td>\n",
       "      <td>f</td>\n",
       "    </tr>\n",
       "    <tr>\n",
       "      <th>5</th>\n",
       "      <td>לפני כ3 חודשים טסתי לרומא למשך שבוע. טסתי במטו...</td>\n",
       "      <td>f</td>\n",
       "    </tr>\n",
       "    <tr>\n",
       "      <th>6</th>\n",
       "      <td>אני כבר שנתיים נשוי והשנה אני ואישתי סוף סוף י...</td>\n",
       "      <td>m</td>\n",
       "    </tr>\n",
       "    <tr>\n",
       "      <th>7</th>\n",
       "      <td>השנה התחלנו שיפוץ בדירה שלנו בתל אביב. הדירה ה...</td>\n",
       "      <td>f</td>\n",
       "    </tr>\n",
       "  </tbody>\n",
       "</table>\n",
       "</div>"
      ],
      "text/plain": [
       "                                               story gender\n",
       "0  כשחבר הזמין אותי לחול, לא באמת חשבתי שזה יקרה,...      m\n",
       "1  לפני שהתגייסתי לצבא עשיתי כל מני מיונים ליחידו...      m\n",
       "2  מאז שהתחילו הלימודים חלומו של כל סטודנט זה הפנ...      f\n",
       "3  כשהייתי ילד, מטוסים היה הדבר שהכי ריתק אותי. ב...      m\n",
       "4  ‏הייתי מדריכה בכפר נוער ומתאם הכפר היינו צריכי...      f\n",
       "5  לפני כ3 חודשים טסתי לרומא למשך שבוע. טסתי במטו...      f\n",
       "6  אני כבר שנתיים נשוי והשנה אני ואישתי סוף סוף י...      m\n",
       "7  השנה התחלנו שיפוץ בדירה שלנו בתל אביב. הדירה ה...      f"
      ]
     },
     "execution_count": 8,
     "metadata": {},
     "output_type": "execute_result"
    },
    {
     "data": {
      "text/plain": [
       "(753, 2)"
      ]
     },
     "execution_count": 8,
     "metadata": {},
     "output_type": "execute_result"
    }
   ],
   "source": [
    "df_train.head(8)\n",
    "df_train.shape\n"
   ]
  },
  {
   "cell_type": "code",
   "execution_count": 9,
   "metadata": {},
   "outputs": [
    {
     "data": {
      "text/html": [
       "<div>\n",
       "<style scoped>\n",
       "    .dataframe tbody tr th:only-of-type {\n",
       "        vertical-align: middle;\n",
       "    }\n",
       "\n",
       "    .dataframe tbody tr th {\n",
       "        vertical-align: top;\n",
       "    }\n",
       "\n",
       "    .dataframe thead th {\n",
       "        text-align: right;\n",
       "    }\n",
       "</style>\n",
       "<table border=\"1\" class=\"dataframe\">\n",
       "  <thead>\n",
       "    <tr style=\"text-align: right;\">\n",
       "      <th></th>\n",
       "      <th>test_example_id</th>\n",
       "      <th>story</th>\n",
       "    </tr>\n",
       "  </thead>\n",
       "  <tbody>\n",
       "    <tr>\n",
       "      <th>0</th>\n",
       "      <td>0</td>\n",
       "      <td>כל קיץ אני והמשפחה נוסעים לארצות הברית לוס אנג...</td>\n",
       "    </tr>\n",
       "    <tr>\n",
       "      <th>1</th>\n",
       "      <td>1</td>\n",
       "      <td>הגעתי לשירות המדינה אחרי שנתיים כפעיל בתנועת \"...</td>\n",
       "    </tr>\n",
       "    <tr>\n",
       "      <th>2</th>\n",
       "      <td>2</td>\n",
       "      <td>אחת האהבות הגדולות שלי אלו הכלבים שלי ושל אישת...</td>\n",
       "    </tr>\n",
       "  </tbody>\n",
       "</table>\n",
       "</div>"
      ],
      "text/plain": [
       "   test_example_id                                              story\n",
       "0                0  כל קיץ אני והמשפחה נוסעים לארצות הברית לוס אנג...\n",
       "1                1  הגעתי לשירות המדינה אחרי שנתיים כפעיל בתנועת \"...\n",
       "2                2  אחת האהבות הגדולות שלי אלו הכלבים שלי ושל אישת..."
      ]
     },
     "execution_count": 9,
     "metadata": {},
     "output_type": "execute_result"
    },
    {
     "data": {
      "text/plain": [
       "(323, 2)"
      ]
     },
     "execution_count": 9,
     "metadata": {},
     "output_type": "execute_result"
    }
   ],
   "source": [
    "df_test.head(3)\n",
    "df_test.shape"
   ]
  },
  {
   "cell_type": "markdown",
   "metadata": {},
   "source": [
    "### Your implementation:\n",
    "Write your code solution in the following code-cells"
   ]
  },
  {
   "cell_type": "code",
   "execution_count": 10,
   "metadata": {},
   "outputs": [],
   "source": [
    "# YOUR CODE HERE\n",
    "def create_tokens(string):\n",
    "    hebrew_tokens = ht.tokenize(string)\n",
    "    hebrew_tokens_list_tuples = list(filter(lambda x: (x[0]=='HEBREW'), hebrew_tokens))\n",
    "    hebrew_tokens_list = [tuple[1] for tuple in hebrew_tokens_list_tuples]\n",
    "    return hebrew_tokens_list"
   ]
  },
  {
   "cell_type": "code",
   "execution_count": 26,
   "metadata": {},
   "outputs": [],
   "source": [
    "# YOUR CODE HERE  \n",
    "text_clf =Pipeline([\n",
    "    ('vect', CountVectorizer(tokenizer=create_tokens,max_df=1.8, max_features=10000, ngram_range=(1, 2), min_df=0.0)),\n",
    "    ('norm', StandardScaler(with_mean=False, copy=True)),\n",
    "    ('clf_nb', SGDClassifier(loss='hinge', penalty='l2', alpha=1e-5, random_state=42, max_iter=5, tol=None)),\n",
    "])"
   ]
  },
  {
   "cell_type": "code",
   "execution_count": 46,
   "metadata": {
    "scrolled": false
   },
   "outputs": [],
   "source": [
    "# YOUR CODE HERE\n",
    "# text_clf2 = Pipeline([\n",
    "#     ('vect', TfidfVectorizer(tokenizer=create_tokens,norm='l2', max_features=10000, ngram_range=(1, 2), min_df=2)),\n",
    "#     ('norm', StandardScaler(with_mean=False, copy=True)),\n",
    "#     ('clf_nb', SGDClassifier(loss='hinge', penalty='l2', alpha=1e-4, random_state=42, max_iter=5, tol=None)),\n",
    "# ])\n",
    "# text_clf1 = Pipeline([\n",
    "#     ('vect', TfidfVectorizer(tokenizer=create_tokens,norm='l2', max_features=10000,  ngram_range=(1,4), min_df=2)),\n",
    "#     ('norm', preprocessing.Normalizer()),\n",
    "#     ('clf', Perceptron(tol=1e-3, random_state=42, alpha=1e-4, max_iter=5)),\n",
    "# ])"
   ]
  },
  {
   "cell_type": "code",
   "execution_count": 50,
   "metadata": {},
   "outputs": [
    {
     "data": {
      "text/plain": [
       "Pipeline(steps=[('vect',\n",
       "                 CountVectorizer(max_df=1.8, max_features=10000, min_df=0.0,\n",
       "                                 ngram_range=(1, 2),\n",
       "                                 tokenizer=<function create_tokens at 0x000002294D028550>)),\n",
       "                ('norm', StandardScaler(with_mean=False)),\n",
       "                ('clf_nb',\n",
       "                 SGDClassifier(alpha=1e-05, max_iter=5, random_state=42,\n",
       "                               tol=None))])"
      ]
     },
     "execution_count": 50,
     "metadata": {},
     "output_type": "execute_result"
    }
   ],
   "source": [
    "# Add as many code cells as you need\n",
    "# YOUR CODE HERE\n",
    "X_train=df_train.copy()\n",
    "y_train=df_train['gender']\n",
    "text_clf.fit(X_train['story'],y_train)"
   ]
  },
  {
   "cell_type": "code",
   "execution_count": 29,
   "metadata": {},
   "outputs": [],
   "source": [
    "def avarage_muth(l):\n",
    "    return sum(l)/len(l)\n"
   ]
  },
  {
   "cell_type": "code",
   "execution_count": 48,
   "metadata": {},
   "outputs": [
    {
     "name": "stdout",
     "output_type": "stream",
     "text": [
      "0.7122341432170488\n"
     ]
    }
   ],
   "source": [
    "\n",
    "cros_val_info2=cross_val_score(text_clf,X_train['story'],y_train,cv=10,scoring='f1_macro')\n",
    "avg2=avarage_muth(cros_val_info2)\n",
    "print(avg2)"
   ]
  },
  {
   "cell_type": "code",
   "execution_count": null,
   "metadata": {},
   "outputs": [],
   "source": []
  },
  {
   "cell_type": "code",
   "execution_count": null,
   "metadata": {},
   "outputs": [],
   "source": []
  },
  {
   "cell_type": "code",
   "execution_count": null,
   "metadata": {},
   "outputs": [],
   "source": []
  },
  {
   "cell_type": "code",
   "execution_count": null,
   "metadata": {},
   "outputs": [],
   "source": []
  },
  {
   "cell_type": "code",
   "execution_count": null,
   "metadata": {},
   "outputs": [],
   "source": []
  },
  {
   "cell_type": "code",
   "execution_count": 52,
   "metadata": {},
   "outputs": [],
   "source": [
    "df_test  = pd.read_csv(test_filename, index_col=None, encoding='utf-8')\n",
    "predicted_genders = text_clf.predict(df_test['story'])\n",
    "df_test['predicted_category'] = predicted_genders\n",
    "df_predicted = df_test.drop('story', axis=1)"
   ]
  },
  {
   "cell_type": "code",
   "execution_count": 67,
   "metadata": {},
   "outputs": [],
   "source": []
  },
  {
   "cell_type": "code",
   "execution_count": null,
   "metadata": {},
   "outputs": [],
   "source": []
  },
  {
   "cell_type": "code",
   "execution_count": null,
   "metadata": {},
   "outputs": [],
   "source": []
  },
  {
   "cell_type": "markdown",
   "metadata": {},
   "source": [
    "### Save output to csv (optional)\n",
    "After you're done save your output to the 'classification_results.csv' csv file.<br/>\n",
    "We assume that the dataframe with your results contain the following columns:\n",
    "* column 1 (left column): 'test_example_id'  - the same id associated to each of the test stories to be predicted.\n",
    "* column 2 (right column): 'predicted_category' - the predicted gender value for each of the associated story. \n",
    "\n",
    "Assuming your predicted values are in the `df_predicted` dataframe, you should save you're results as following:"
   ]
  },
  {
   "cell_type": "code",
   "execution_count": 53,
   "metadata": {},
   "outputs": [],
   "source": [
    "df_predicted.to_csv('classification_results.csv',index=False)"
   ]
  },
  {
   "cell_type": "code",
   "execution_count": null,
   "metadata": {},
   "outputs": [],
   "source": []
  }
 ],
 "metadata": {
  "celltoolbar": "Create Assignment",
  "kernelspec": {
   "display_name": "Python 3",
   "language": "python",
   "name": "python3"
  },
  "language_info": {
   "codemirror_mode": {
    "name": "ipython",
    "version": 3
   },
   "file_extension": ".py",
   "mimetype": "text/x-python",
   "name": "python",
   "nbconvert_exporter": "python",
   "pygments_lexer": "ipython3",
   "version": "3.8.8"
  }
 },
 "nbformat": 4,
 "nbformat_minor": 4
}
